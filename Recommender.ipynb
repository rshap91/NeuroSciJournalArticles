{
 "cells": [
  {
   "cell_type": "code",
   "execution_count": 2,
   "metadata": {
    "collapsed": true
   },
   "outputs": [],
   "source": [
    "import numpy as np\n",
    "import pandas as pd\n",
    "\n",
    "from sklearn.metrics.pairwise import cosine_similarity, euclidean_distances, manhattan_distances\n",
    "from sklearn import metrics\n",
    "\n",
    "import cPickle as pickle\n"
   ]
  },
  {
   "cell_type": "code",
   "execution_count": 3,
   "metadata": {
    "collapsed": true
   },
   "outputs": [],
   "source": [
    "# Load Data\n",
    "joined = None\n",
    "cleaned = None\n",
    "cvectr = None\n",
    "nmf = None\n",
    "text_nmf = None\n",
    "components_df = None\n",
    "\n",
    "    \n",
    "with open('WranglingPickles/cleaned.pkl', 'rb') as f:\n",
    "    cleaned = pickle.load(f)\n",
    "    \n",
    "with open('WranglingPickles/cvectr.pkl', 'rb') as f:\n",
    "    cvectr = pickle.load(f)\n",
    "    \n",
    "with open('WranglingPickles/nmf.pkl', 'rb') as f:\n",
    "    nmf = pickle.load(f)\n",
    "    \n",
    "with open('WranglingPickles/text_nmf.pkl', 'rb') as f:\n",
    "    text_nmf = pickle.load(f)\n",
    "    \n",
    "with open('WranglingPickles/components_df.pkl', 'rb') as f:\n",
    "    components_df = pickle.load(f)\n",
    "    \n",
    "with open('WranglingPickles/Joined.pkl','rb') as f:\n",
    "    joined = pickle.load(f)"
   ]
  },
  {
   "cell_type": "code",
   "execution_count": 13,
   "metadata": {
    "collapsed": false
   },
   "outputs": [
    {
     "data": {
      "text/html": [
       "<div>\n",
       "<table border=\"1\" class=\"dataframe\">\n",
       "  <thead>\n",
       "    <tr style=\"text-align: right;\">\n",
       "      <th></th>\n",
       "      <th>Coding_Latex</th>\n",
       "      <th>Genetics</th>\n",
       "      <th>Psychiatric_Disorder</th>\n",
       "      <th>Attention</th>\n",
       "      <th>ImmuneSystem_Cancer</th>\n",
       "      <th>Neurons</th>\n",
       "      <th>Animal_Experiments</th>\n",
       "      <th>Alzheimers_Dementia_Parkinson</th>\n",
       "      <th>Sleep</th>\n",
       "      <th>Dependency</th>\n",
       "      <th>Pain_MotorFunction</th>\n",
       "      <th>Stroke_Aneurysm_Damage</th>\n",
       "      <th>Developmental_Disorders</th>\n",
       "      <th>Brain_Mapping</th>\n",
       "      <th>Memory</th>\n",
       "      <th>ID</th>\n",
       "      <th>Journal</th>\n",
       "      <th>Date</th>\n",
       "      <th>Max_Topic_Name</th>\n",
       "      <th>Max_Topic_Val</th>\n",
       "    </tr>\n",
       "  </thead>\n",
       "  <tbody>\n",
       "    <tr>\n",
       "      <th>0</th>\n",
       "      <td>0.001273</td>\n",
       "      <td>0.000000</td>\n",
       "      <td>0.247913</td>\n",
       "      <td>0.000000</td>\n",
       "      <td>0.199396</td>\n",
       "      <td>0.471529</td>\n",
       "      <td>0.167966</td>\n",
       "      <td>0.060914</td>\n",
       "      <td>0.017921</td>\n",
       "      <td>2.139161</td>\n",
       "      <td>0.000000</td>\n",
       "      <td>0.000000</td>\n",
       "      <td>0.961869</td>\n",
       "      <td>0.186803</td>\n",
       "      <td>0.538371</td>\n",
       "      <td>581de078b067bc05a36409c1</td>\n",
       "      <td>Neuroscience</td>\n",
       "      <td>2014_Dec</td>\n",
       "      <td>Dependency</td>\n",
       "      <td>2.139161</td>\n",
       "    </tr>\n",
       "    <tr>\n",
       "      <th>1</th>\n",
       "      <td>0.004978</td>\n",
       "      <td>0.000000</td>\n",
       "      <td>0.000000</td>\n",
       "      <td>0.317037</td>\n",
       "      <td>0.136185</td>\n",
       "      <td>0.468468</td>\n",
       "      <td>0.206836</td>\n",
       "      <td>0.000000</td>\n",
       "      <td>0.084690</td>\n",
       "      <td>0.496419</td>\n",
       "      <td>0.512749</td>\n",
       "      <td>0.000000</td>\n",
       "      <td>0.000000</td>\n",
       "      <td>0.064152</td>\n",
       "      <td>0.000000</td>\n",
       "      <td>581de078b067bc05a36409c2</td>\n",
       "      <td>Neuroscience</td>\n",
       "      <td>2010_Oct</td>\n",
       "      <td>Pain_MotorFunction</td>\n",
       "      <td>0.512749</td>\n",
       "    </tr>\n",
       "    <tr>\n",
       "      <th>2</th>\n",
       "      <td>0.033887</td>\n",
       "      <td>0.043568</td>\n",
       "      <td>0.000000</td>\n",
       "      <td>0.722161</td>\n",
       "      <td>0.448714</td>\n",
       "      <td>0.774374</td>\n",
       "      <td>0.223858</td>\n",
       "      <td>0.000000</td>\n",
       "      <td>0.000000</td>\n",
       "      <td>0.000000</td>\n",
       "      <td>0.502211</td>\n",
       "      <td>0.000000</td>\n",
       "      <td>0.000000</td>\n",
       "      <td>0.027228</td>\n",
       "      <td>0.000000</td>\n",
       "      <td>581de078b067bc05a36409c3</td>\n",
       "      <td>Neuroscience</td>\n",
       "      <td>2012_Jul</td>\n",
       "      <td>Neurons</td>\n",
       "      <td>0.774374</td>\n",
       "    </tr>\n",
       "    <tr>\n",
       "      <th>3</th>\n",
       "      <td>0.000000</td>\n",
       "      <td>0.000000</td>\n",
       "      <td>0.000000</td>\n",
       "      <td>1.271206</td>\n",
       "      <td>0.000000</td>\n",
       "      <td>0.000000</td>\n",
       "      <td>0.000000</td>\n",
       "      <td>0.010501</td>\n",
       "      <td>0.000000</td>\n",
       "      <td>0.000000</td>\n",
       "      <td>0.000000</td>\n",
       "      <td>0.006899</td>\n",
       "      <td>0.062925</td>\n",
       "      <td>0.821910</td>\n",
       "      <td>0.798151</td>\n",
       "      <td>581de078b067bc05a36409c4</td>\n",
       "      <td>Neuroscience</td>\n",
       "      <td>2016_Aug</td>\n",
       "      <td>Attention</td>\n",
       "      <td>1.271206</td>\n",
       "    </tr>\n",
       "    <tr>\n",
       "      <th>4</th>\n",
       "      <td>0.000000</td>\n",
       "      <td>0.000000</td>\n",
       "      <td>0.024419</td>\n",
       "      <td>0.000000</td>\n",
       "      <td>0.153504</td>\n",
       "      <td>2.570706</td>\n",
       "      <td>0.249871</td>\n",
       "      <td>0.000000</td>\n",
       "      <td>0.000000</td>\n",
       "      <td>0.083720</td>\n",
       "      <td>0.515074</td>\n",
       "      <td>0.000000</td>\n",
       "      <td>0.013573</td>\n",
       "      <td>0.000000</td>\n",
       "      <td>0.000000</td>\n",
       "      <td>581de078b067bc05a36409c5</td>\n",
       "      <td>Neuroscience</td>\n",
       "      <td>2016_Jun</td>\n",
       "      <td>Neurons</td>\n",
       "      <td>2.570706</td>\n",
       "    </tr>\n",
       "  </tbody>\n",
       "</table>\n",
       "</div>"
      ],
      "text/plain": [
       "   Coding_Latex  Genetics  Psychiatric_Disorder  Attention  \\\n",
       "0      0.001273  0.000000              0.247913   0.000000   \n",
       "1      0.004978  0.000000              0.000000   0.317037   \n",
       "2      0.033887  0.043568              0.000000   0.722161   \n",
       "3      0.000000  0.000000              0.000000   1.271206   \n",
       "4      0.000000  0.000000              0.024419   0.000000   \n",
       "\n",
       "   ImmuneSystem_Cancer   Neurons  Animal_Experiments  \\\n",
       "0             0.199396  0.471529            0.167966   \n",
       "1             0.136185  0.468468            0.206836   \n",
       "2             0.448714  0.774374            0.223858   \n",
       "3             0.000000  0.000000            0.000000   \n",
       "4             0.153504  2.570706            0.249871   \n",
       "\n",
       "   Alzheimers_Dementia_Parkinson     Sleep  Dependency  Pain_MotorFunction  \\\n",
       "0                       0.060914  0.017921    2.139161            0.000000   \n",
       "1                       0.000000  0.084690    0.496419            0.512749   \n",
       "2                       0.000000  0.000000    0.000000            0.502211   \n",
       "3                       0.010501  0.000000    0.000000            0.000000   \n",
       "4                       0.000000  0.000000    0.083720            0.515074   \n",
       "\n",
       "   Stroke_Aneurysm_Damage  Developmental_Disorders  Brain_Mapping    Memory  \\\n",
       "0                0.000000                 0.961869       0.186803  0.538371   \n",
       "1                0.000000                 0.000000       0.064152  0.000000   \n",
       "2                0.000000                 0.000000       0.027228  0.000000   \n",
       "3                0.006899                 0.062925       0.821910  0.798151   \n",
       "4                0.000000                 0.013573       0.000000  0.000000   \n",
       "\n",
       "                         ID       Journal      Date      Max_Topic_Name  \\\n",
       "0  581de078b067bc05a36409c1  Neuroscience  2014_Dec          Dependency   \n",
       "1  581de078b067bc05a36409c2  Neuroscience  2010_Oct  Pain_MotorFunction   \n",
       "2  581de078b067bc05a36409c3  Neuroscience  2012_Jul             Neurons   \n",
       "3  581de078b067bc05a36409c4  Neuroscience  2016_Aug           Attention   \n",
       "4  581de078b067bc05a36409c5  Neuroscience  2016_Jun             Neurons   \n",
       "\n",
       "   Max_Topic_Val  \n",
       "0       2.139161  \n",
       "1       0.512749  \n",
       "2       0.774374  \n",
       "3       1.271206  \n",
       "4       2.570706  "
      ]
     },
     "execution_count": 13,
     "metadata": {},
     "output_type": "execute_result"
    }
   ],
   "source": [
    "cols = ['Coding_Latex', \"Genetics\", 'Psychiatric_Disorder', 'Attention', 'ImmuneSystem_Cancer',\n",
    "        'Neurons', 'Animal_Experiments', 'Alzheimers_Dementia_Parkinson',  'Sleep',\n",
    "        \"Dependency\", \"Pain_MotorFunction\", 'Stroke_Aneurysm_Damage', 'Developmental_Disorders', \n",
    "        'Brain_Mapping', 'Memory']\n",
    "\n",
    "text_nmf['ID'] = list(map(lambda j: j[0], joined))\n",
    "text_nmf['Journal'] = list(map(lambda j: j[1], joined))\n",
    "text_nmf['Date'] = list(map(lambda j: j[2], joined))\n",
    "\n",
    "text_nmf.columns = cols +['ID', 'Journal', 'Date']\n",
    "\n",
    "\n",
    "floatCols = text_nmf.columns[text_nmf.dtypes == 'float64']\n",
    "\n",
    "\n",
    "\n",
    "\n",
    "text_nmf['Max_Topic_Name'] = text_nmf[floatCols].apply(lambda row: row.sort_values(ascending = False)[:1].index[0], axis = 1)\n",
    "text_nmf['Max_Topic_Val'] = text_nmf[floatCols].apply(lambda row: row.sort_values(ascending = False)[0], axis = 1)\n",
    "\n",
    "text_nmf.head()\n",
    "\n"
   ]
  },
  {
   "cell_type": "code",
   "execution_count": 31,
   "metadata": {
    "collapsed": false
   },
   "outputs": [
    {
     "name": "stdout",
     "output_type": "stream",
     "text": [
      "14845\n",
      "(2956, 20)\n"
     ]
    }
   ],
   "source": [
    "# Recommender will calculate cosine_similarity between articles of same max_topic and order them\n",
    "rand_ix = np.random.choice(text_nmf.index)\n",
    "rand_article = text_nmf.ix[rand_ix]\n",
    "print rand_ix\n",
    "\n",
    "topic = rand_article.Max_Topic_Name\n",
    "\n",
    "\n",
    "data = text_nmf[text_nmf.Max_Topic_Name == topic]\n",
    "print data.shape\n",
    "sims = pd.DataFrame(cosine_similarity(data[floatCols]), index= data.index, columns = data.index)\n",
    "recs = sims.ix[rand_ix].sort_values(ascending = False)[1:11]"
   ]
  },
  {
   "cell_type": "code",
   "execution_count": 87,
   "metadata": {
    "collapsed": false
   },
   "outputs": [],
   "source": [
    "\n",
    "def Recommend(article):\n",
    "    topic = article.Max_Topic_Name\n",
    "    data = text_nmf[text_nmf.Max_Topic_Name == topic]\n",
    "    sims = pd.Series(cosine_similarity(article[floatCols].reshape(1,-1), data[floatCols])[0], index = data.index)\n",
    "    recs = sims.sort_values(ascending=False)\n",
    "    return recs[recs<1.][:10]"
   ]
  },
  {
   "cell_type": "code",
   "execution_count": 88,
   "metadata": {
    "collapsed": false
   },
   "outputs": [
    {
     "data": {
      "text/plain": [
       "10022    0.996317\n",
       "8506     0.991925\n",
       "9962     0.986794\n",
       "14357    0.984801\n",
       "5576     0.982586\n",
       "5562     0.981192\n",
       "7092     0.980721\n",
       "24836    0.980543\n",
       "14503    0.979785\n",
       "8411     0.979215\n",
       "dtype: float64"
      ]
     },
     "execution_count": 88,
     "metadata": {},
     "output_type": "execute_result"
    }
   ],
   "source": [
    "Recommend(rand_article)"
   ]
  },
  {
   "cell_type": "code",
   "execution_count": null,
   "metadata": {
    "collapsed": false
   },
   "outputs": [],
   "source": []
  },
  {
   "cell_type": "code",
   "execution_count": null,
   "metadata": {
    "collapsed": true
   },
   "outputs": [],
   "source": []
  }
 ],
 "metadata": {
  "kernelspec": {
   "display_name": "Python 2",
   "language": "python",
   "name": "python2"
  },
  "language_info": {
   "codemirror_mode": {
    "name": "ipython",
    "version": 2
   },
   "file_extension": ".py",
   "mimetype": "text/x-python",
   "name": "python",
   "nbconvert_exporter": "python",
   "pygments_lexer": "ipython2",
   "version": "2.7.10"
  }
 },
 "nbformat": 4,
 "nbformat_minor": 0
}
